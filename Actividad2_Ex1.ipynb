{
  "nbformat": 4,
  "nbformat_minor": 0,
  "metadata": {
    "colab": {
      "name": "Actividad2-Ex1.ipynb",
      "provenance": [],
      "authorship_tag": "ABX9TyOENSNayR4pVp9qMLqNzcxh",
      "include_colab_link": true
    },
    "kernelspec": {
      "name": "python3",
      "display_name": "Python 3"
    },
    "language_info": {
      "name": "python"
    }
  },
  "cells": [
    {
      "cell_type": "markdown",
      "metadata": {
        "id": "view-in-github",
        "colab_type": "text"
      },
      "source": [
        "<a href=\"https://colab.research.google.com/github/LuisCarlosGB/AINN/blob/main/Actividad2_Ex1.ipynb\" target=\"_parent\"><img src=\"https://colab.research.google.com/assets/colab-badge.svg\" alt=\"Open In Colab\"/></a>"
      ]
    },
    {
      "cell_type": "code",
      "metadata": {
        "colab": {
          "base_uri": "https://localhost:8080/"
        },
        "id": "7lgzM5g6JWuo",
        "outputId": "6a5411ac-88c1-4dfd-bb18-9f4efa1e2775"
      },
      "source": [
        "nombre = input(\"¿Cuál es su nombre?: \")"
      ],
      "execution_count": 4,
      "outputs": [
        {
          "name": "stdout",
          "output_type": "stream",
          "text": [
            "¿Cuál es su nombre?: Luis Carlos\n"
          ]
        }
      ]
    },
    {
      "cell_type": "code",
      "metadata": {
        "colab": {
          "base_uri": "https://localhost:8080/"
        },
        "id": "OBJEz39CJlV_",
        "outputId": "1e605eff-caca-4cf0-ef8b-a8be0ec93d9f"
      },
      "source": [
        "edad = input(\"¿Cuál es su edad?: \")"
      ],
      "execution_count": 7,
      "outputs": [
        {
          "name": "stdout",
          "output_type": "stream",
          "text": [
            "¿Cuál es su edad?: 20\n"
          ]
        }
      ]
    },
    {
      "cell_type": "code",
      "metadata": {
        "colab": {
          "base_uri": "https://localhost:8080/"
        },
        "id": "wvWlzDBqMCeO",
        "outputId": "83179179-5aeb-42d9-a552-07cd25206b93"
      },
      "source": [
        "frase= input(\"¿Qué frase suele inspirarle?: \")"
      ],
      "execution_count": 10,
      "outputs": [
        {
          "name": "stdout",
          "output_type": "stream",
          "text": [
            "¿Qué frase suele inspirarle?: El comportamiento es un espejo en el que cada uno muestra su imagen\n"
          ]
        }
      ]
    },
    {
      "cell_type": "code",
      "metadata": {
        "colab": {
          "base_uri": "https://localhost:8080/"
        },
        "id": "YkEc8voHMol9",
        "outputId": "e9a7a803-ff06-431f-caef-6242ed6b0e28"
      },
      "source": [
        "autor= input(\"¿Quién es el autor de la frase?: \")"
      ],
      "execution_count": 15,
      "outputs": [
        {
          "name": "stdout",
          "output_type": "stream",
          "text": [
            "¿Quién es el autor de la frase?: Johann Wolfgang von Goethe\n"
          ]
        }
      ]
    },
    {
      "cell_type": "code",
      "metadata": {
        "colab": {
          "base_uri": "https://localhost:8080/"
        },
        "id": "RfsOLlA8JpBd",
        "outputId": "b2f029cb-8d06-40c0-9df1-87a2e47064f7"
      },
      "source": [
        "print(f\"Me alegro de conocerle, {nombre} de {edad} años. \\nSu frase '{frase}' de {autor} me llena de inspiración. \")"
      ],
      "execution_count": 17,
      "outputs": [
        {
          "output_type": "stream",
          "name": "stdout",
          "text": [
            "Me alegro de conocerle, Luis Carlos de 20 años. \n",
            "Su frase 'El comportamiento es un espejo en el que cada uno muestra su imagen' de Johann Wolfgang von Goethe me llena de inspiración. \n"
          ]
        }
      ]
    },
    {
      "cell_type": "code",
      "metadata": {
        "id": "HduNHPyLKHed"
      },
      "source": [
        ""
      ],
      "execution_count": null,
      "outputs": []
    },
    {
      "cell_type": "markdown",
      "metadata": {
        "id": "gtTCv_JEMyks"
      },
      "source": [
        ""
      ]
    }
  ]
}