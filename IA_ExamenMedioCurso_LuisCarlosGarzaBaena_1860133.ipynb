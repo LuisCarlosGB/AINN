{
  "nbformat": 4,
  "nbformat_minor": 0,
  "metadata": {
    "colab": {
      "name": "IA_ExamenMedioCurso_LuisCarlosGarzaBaena_1860133.ipynb",
      "provenance": [],
      "authorship_tag": "ABX9TyMs2hwXgZ2eiLxfOzis2BSZ",
      "include_colab_link": true
    },
    "kernelspec": {
      "name": "python3",
      "display_name": "Python 3"
    },
    "language_info": {
      "name": "python"
    }
  },
  "cells": [
    {
      "cell_type": "markdown",
      "metadata": {
        "id": "view-in-github",
        "colab_type": "text"
      },
      "source": [
        "<a href=\"https://colab.research.google.com/github/LuisCarlosGB/AINN/blob/main/IA_ExamenMedioCurso_LuisCarlosGarzaBaena_1860133.ipynb\" target=\"_parent\"><img src=\"https://colab.research.google.com/assets/colab-badge.svg\" alt=\"Open In Colab\"/></a>"
      ]
    },
    {
      "cell_type": "code",
      "metadata": {
        "colab": {
          "base_uri": "https://localhost:8080/"
        },
        "id": "9Wsa3AAR9QlL",
        "outputId": "7f89042b-9b21-4c6a-ac61-e56fd010f7ea"
      },
      "source": [
        "#1.1 El usuario dará un número al azar y el código calculará la suma de todos los números desde el 1 hasta el número dado por el usuario.\n",
        "#Ejemplo: el usuario dió el número 4, el código deberá de dar como resultado 10.\n",
        "num = int(input(\"Ingrese el número máximo a sumar: \"))\n",
        "for i in range(num,0,-1): \n",
        "  if i == num:\n",
        "    suma = num\n",
        "  else:\n",
        "    suma = suma + i\n",
        "print(suma)"
      ],
      "execution_count": 27,
      "outputs": [
        {
          "output_type": "stream",
          "name": "stdout",
          "text": [
            "Ingrese el número máximo a sumar: 20\n",
            "210\n"
          ]
        }
      ]
    },
    {
      "cell_type": "code",
      "metadata": {
        "colab": {
          "base_uri": "https://localhost:8080/"
        },
        "id": "TO1EbpGV9vqk",
        "outputId": "6f34b7ae-a5f1-4c1c-8204-e906c11a5fb6"
      },
      "source": [
        "#1.2 Dados el inicio y final de un rango de números, guardar ese rango de números en una lista. \n",
        "#Después, imprimir los números que son pares en la lista por medio de uno de los ciclos que vimos en clase. Inicio = 6, final = 31\n",
        "numI = int(6)\n",
        "numF = int(31)\n",
        "Listanum = []\n",
        "for i in range(0,numF-numI+1,1):\n",
        "    numLista = numI + i\n",
        "    Listanum.append(numLista)\n",
        "for i in range(0,numF-numI+1,1):\n",
        "  if Listanum[i] % 2 == 0:\n",
        "    print(Listanum[i])\n"
      ],
      "execution_count": 26,
      "outputs": [
        {
          "output_type": "stream",
          "name": "stdout",
          "text": [
            "6\n",
            "8\n",
            "10\n",
            "12\n",
            "14\n",
            "16\n",
            "18\n",
            "20\n",
            "22\n",
            "24\n",
            "26\n",
            "28\n",
            "30\n"
          ]
        }
      ]
    }
  ]
}