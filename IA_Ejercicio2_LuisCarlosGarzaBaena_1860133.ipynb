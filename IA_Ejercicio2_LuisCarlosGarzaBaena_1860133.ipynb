{
  "nbformat": 4,
  "nbformat_minor": 0,
  "metadata": {
    "colab": {
      "name": "IA_Ejercicio2_LuisCarlosGarzaBaena_1860133.ipynb",
      "provenance": [],
      "authorship_tag": "ABX9TyOJ0X+7qWMaOeXEWA6O0a1u",
      "include_colab_link": true
    },
    "kernelspec": {
      "name": "python3",
      "display_name": "Python 3"
    },
    "language_info": {
      "name": "python"
    }
  },
  "cells": [
    {
      "cell_type": "markdown",
      "metadata": {
        "id": "view-in-github",
        "colab_type": "text"
      },
      "source": [
        "<a href=\"https://colab.research.google.com/github/LuisCarlosGB/AINN/blob/main/IA_Ejercicio2_LuisCarlosGarzaBaena_1860133.ipynb\" target=\"_parent\"><img src=\"https://colab.research.google.com/assets/colab-badge.svg\" alt=\"Open In Colab\"/></a>"
      ]
    },   
    {
      "cell_type": "markdown",
      "metadata": {
        "id": "R8L_e-U5oyda"
      },
      "source": [
        "#Actividad 3.- Ejercicios de Introducción a Python 2da. Parte"
      ],
      "execution_count": null,
      "outputs": []
    },
    {
      "cell_type": "markdown",
      "metadata": {
        "id": "g4x5XovphdkI"
      },
      "source": [
           "\n",
        "Nombre: Luis Carlos Garza Baena\n",
         "\n",
        "Matrícula: 1860133\n",
         "\n",
        "Hora: Martes N4-N6\n"
      ]
    },
    {
      "cell_type": "markdown",
      "metadata": {
        "id": "g4x5XovphdkK"
      },
      "source": [
        "## Ejercicio 1\n",
        "\n",
        "1.1 Implementa un programa que pregunte por 7 comidas que te gusten, las almacene en una lista y posteriermente las imprima.",
        "\n",
        "1.2 Modifica el ejercicio para que imprima cada una de las comidas favoritas junto con una oración inicial."
      ]
    },
    {
      "cell_type": "code",
      "metadata": {
        "colab": {
          "base_uri": "https://localhost:8080/"
        },
        "id": "H5CCg-V9qFTr",
        "outputId": "ee761d0c-869d-418b-a1ef-5c9f0b45c930"
      },
      "source": [
        "comidaslista = [] #lista\n",
        "print(\"Escriba 7 comidas que le gusten: \" )\n",
        "for i in range(0, 7): #For para obtener las comidas e irlas adhiriando a la lista\n",
        "    comida = input()\n",
        "    comidaslista.append(comida)\n",
        "\"\"\"print(comidaslista)\"\"\" #1.1\n",
        "for i in range(0, 7): #For para imprimir la lista de comidasT\n",
        "  if i == 0:\n",
        "    print(f\"Una de mis comidas favoritas es {comidaslista[i]}.\")\n",
        "  else:\n",
        "    print(f\"Otra de ellas es {comidaslista[i]}.\")"
      ],
      "execution_count": 18,
      "outputs": [
        {
          "output_type": "stream",
          "name": "stdout",
          "text": [
            "Escriba 7 comidas que le gusten: \n",
            "Tacos\n",
            "Enchiladas\n",
            "Lasaña\n",
            "Tortas\n",
            "Ensalada\n",
            "Sushi\n",
            "Brisket\n",
            "Una de mis comidas favoritas es Tacos.\n",
            "Otra de ellas es Enchiladas.\n",
            "Otra de ellas es Lasaña.\n",
            "Otra de ellas es Tortas.\n",
            "Otra de ellas es Ensalada.\n",
            "Otra de ellas es Sushi.\n",
            "Otra de ellas es Brisket.\n"
          ]
        }
      ]
    },
    {
      "cell_type": "code",
      "metadata": {
        "colab": {
          "base_uri": "https://localhost:8080/"
        },
        "id": "tVAao-7jw2ql",
        "outputId": "cbbeb043-dfaf-4cb6-8873-32b4fa647cb7"
      },
      "source": [
        "def juegoppt():\n",
        "  diccionarioppt = {\"piedra\":\"papel\", \"papel\":\"tijeras\", \"tijeras\":\"piedra\"} #Traductor para decidir las victorias en piedra papel y tijeras\n",
        "  ppt = (\"piedra\", \"papel\", \"tijeras\") #Lista de opciones\n",
        "  print(\"Escriba entre las opciones piedra, papel o tijeras para los jugadores: \" )\n",
        "  jugador = [input(\"1: \"), input(\"2: \")] #Obtener las opciones de los jugadores\n",
        "  while jugador[0] not in ppt or jugador[1] not in ppt: #While en caso de escribir mal las opciones\n",
        "    print(\"Escriba correctamente las opciones piedra, papel o tijeras para los jugadores: \" )\n",
        "    jugador = [input(\"1: \"), input(\"2: \")]\n",
        "  if diccionarioppt[jugador[0]] == jugador[1]: #Condicionales para decidir e imprimir el resultado\n",
        "    print(\"El jugador 2 ha ganado ante el jugador 1\")\n",
        "  elif diccionarioppt[jugador[1]] == jugador[0]:\n",
        "    print(\"El jugador 1 ha ganado ante el jugador 2\")\n",
        "  else:\n",
        "    print(\"Ambos jugadores han empatado\") \n",
        "  replay = input(\"¿Quieres jugar otra vez? Responde con un si de ser el caso: \") #Opción de jugar de nuevo\n",
        "  if replay == \"si\":\n",
        "    juegoppt()\n",
        "juegoppt()\n"
      ],
      "execution_count": null,
      "outputs": [
        {
          "name": "stdout",
          "output_type": "stream",
          "text": [
            "Escriba entre las opciones piedra, papel o tijeras para los jugadores: \n",
            "1: lizard\n",
            "2: spock\n",
            "Escriba correctamente las opciones piedra, papel o tijeras para los jugadores: \n",
            "1: piedra\n",
            "2: papel\n",
            "El jugador 2 ha ganado ante el jugador 1\n",
            "¿Quieres jugar otra vez? Responde con un si de ser el caso: si\n",
            "Escriba entre las opciones piedra, papel o tijeras para los jugadores: \n",
            "1: papel\n",
            "2: piedra\n",
            "El jugador 1 ha ganado ante el jugador 2\n",
            "¿Quieres jugar otra vez? Responde con un si de ser el caso: si\n",
            "Escriba entre las opciones piedra, papel o tijeras para los jugadores: \n",
            "1: tijeras\n",
            "2: tijeras\n",
            "Ambos jugadores han empatado\n",
            "¿Quieres jugar otra vez? Responde con un si de ser el caso: no\n"
          ]
        }
      ]
    },
    {
      "cell_type": "code",
      "metadata": {
        "colab": {
          "base_uri": "https://localhost:8080/"
        },
        "id": "MnUwCuE-yQ7s",
        "outputId": "89c49173-a837-4986-cd73-a00b88b0cad2"
      },
      "source": [
        "list = [1,2,3,4,5,6]\n",
        "for i in range(6,1,-1): #For para imprimir desde el índice 5(número 6) de la lista hasta el índice 1(número 2)\n",
        "  print(numeros[0:i])\n",
        "for i in range(1,7,1): #For para imprimir desde el índice 0(número 1) de la lista hasta el índice 5(número 6)\n",
        "  print(numeros[0:i])"
      ],
      "execution_count": null,
      "outputs": [
        {
          "output_type": "stream",
          "name": "stdout",
          "text": [
            "[1, 2, 3, 4, 5, 6]\n",
            "[1, 2, 3, 4, 5]\n",
            "[1, 2, 3, 4]\n",
            "[1, 2, 3]\n",
            "[1, 2]\n",
            "[1]\n",
            "[1, 2]\n",
            "[1, 2, 3]\n",
            "[1, 2, 3, 4]\n",
            "[1, 2, 3, 4, 5]\n",
            "[1, 2, 3, 4, 5, 6]\n"
          ]
        }
      ]
    },
    {
      "cell_type": "code",
      "metadata": {
        "id": "za0Z9HSuzSnU"
      },
      "source": [
        ""
      ],
      "execution_count": null,
      "outputs": []
    }
  ]
}
