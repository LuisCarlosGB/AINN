{
  "nbformat": 4,
  "nbformat_minor": 0,
  "metadata": {
    "colab": {
      "name": "Actividad2-Ex2.ipynb",
      "provenance": [],
      "authorship_tag": "ABX9TyPR7XgY3MfLtw4VoA9LXvwk",
      "include_colab_link": true
    },
    "kernelspec": {
      "name": "python3",
      "display_name": "Python 3"
    },
    "language_info": {
      "name": "python"
    }
  },
  "cells": [
    {
      "cell_type": "markdown",
      "metadata": {
        "id": "view-in-github",
        "colab_type": "text"
      },
      "source": [
        "<a href=\"https://colab.research.google.com/github/LuisCarlosGB/AINN/blob/main/Actividad2_Ex2.ipynb\" target=\"_parent\"><img src=\"https://colab.research.google.com/assets/colab-badge.svg\" alt=\"Open In Colab\"/></a>"
      ]
    },
    {
      "cell_type": "code",
      "metadata": {
        "colab": {
          "base_uri": "https://localhost:8080/"
        },
        "id": "ADWYgFpgTq9q",
        "outputId": "23bd072b-97b3-47d0-8059-6dcc98bb694e"
      },
      "source": [
        "int1 = input(\"Ingrese un primer número entero: \")\n",
        "int2 = input(\"Ingrese un segundo número entero: \")\n",
        "float1 = input(\"Ingrese un primer número flotante: \")\n",
        "float2 = input(\"Ingrese un segundo número flotante: \")\n",
        "print()\n",
        "\n",
        "for i in [0, 1]:\n",
        "    if i % 2 == 0:\n",
        "      x = int(int1)\n",
        "      y = int(int2)\n",
        "    else:\n",
        "      x = float(float1)\n",
        "      y = float(float2)\n",
        "\n",
        "    print(f\"La suma de {x} mas {y} es {x + y} \" )\n",
        "    print(f\"La resta de {x} menos {y} es {x - y} \" )\n",
        "    print(f\"La multiplicación de {x} por {y} es {x * y} \" )\n",
        "    print(f\"La división de {x} entre {y} es {x / y} \" )\n",
        "    print()"
      ],
      "execution_count": 13,
      "outputs": [
        {
          "output_type": "stream",
          "name": "stdout",
          "text": [
            "Ingrese un primer número entero: 6\n",
            "Ingrese un segundo número entero: 5\n",
            "Ingrese un primer número flotante: 4.3\n",
            "Ingrese un segundo número flotante: 2.1\n",
            "\n",
            "La suma de 6 mas 5 es 11 \n",
            "La resta de 6 menos 5 es 1 \n",
            "La multiplicación de 6 por 5 es 30 \n",
            "La división de 6 entre 5 es 1.2 \n",
            "\n",
            "La suma de 4.3 mas 2.1 es 6.4 \n",
            "La resta de 4.3 menos 2.1 es 2.1999999999999997 \n",
            "La multiplicación de 4.3 por 2.1 es 9.03 \n",
            "La división de 4.3 entre 2.1 es 2.0476190476190474 \n",
            "\n"
          ]
        }
      ]
    },
    {
      "cell_type": "code",
      "metadata": {
        "id": "ePl4oAKxY1Vq"
      },
      "source": [
        ""
      ],
      "execution_count": null,
      "outputs": []
    }
  ]
}
