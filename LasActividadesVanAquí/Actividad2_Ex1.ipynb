{
  "nbformat": 4,
  "nbformat_minor": 0,
  "metadata": {
    "colab": {
      "name": "Actividad2-Ex1.ipynb",
      "provenance": [],
      "authorship_tag": "ABX9TyN80J/RIw9jiwOYCvldQnD8",
      "include_colab_link": true
    },
    "kernelspec": {
      "name": "python3",
      "display_name": "Python 3"
    },
    "language_info": {
      "name": "python"
    }
  },
  "cells": [
    {
      "cell_type": "markdown",
      "metadata": {
        "id": "view-in-github",
        "colab_type": "text"
      },
      "source": [
        "<a href=\"https://colab.research.google.com/github/LuisCarlosGB/AINN/blob/main/Actividad2_Ex1.ipynb\" target=\"_parent\"><img src=\"https://colab.research.google.com/assets/colab-badge.svg\" alt=\"Open In Colab\"/></a>"
      ]
    },
    {
      "cell_type": "code",
      "metadata": {
        "id": "7lgzM5g6JWuo"
      },
      "source": [
        "nombre = input(\"¿Cuál es su nombre?: \")"
      ],
      "execution_count": null,
      "outputs": []
    },
    {
      "cell_type": "code",
      "metadata": {
        "id": "OBJEz39CJlV_"
      },
      "source": [
        "edad = input(\"¿Cuál es su edad?: \")"
      ],
      "execution_count": null,
      "outputs": []
    },
    {
      "cell_type": "code",
      "metadata": {
        "id": "wvWlzDBqMCeO"
      },
      "source": [
        "frase= input(\"¿Qué frase suele inspirarle?: \")"
      ],
      "execution_count": null,
      "outputs": []
    },
    {
      "cell_type": "code",
      "metadata": {
        "id": "YkEc8voHMol9"
      },
      "source": [
        "autor= input(\"¿Quién es el autor de la frase?: \")"
      ],
      "execution_count": null,
      "outputs": []
    },
    {
      "cell_type": "code",
      "metadata": {
        "id": "RfsOLlA8JpBd"
      },
      "source": [
        "print(f\"Me alegro de conocerle, {nombre} de {edad} años. \\nSu frase '{frase}' de {autor} me llena de inspiración. \")"
      ],
      "execution_count": null,
      "outputs": []
    },
    {
      "cell_type": "markdown",
      "metadata": {
        "id": "gtTCv_JEMyks"
      },
      "source": [
        ""
      ]
    }
  ]
}
