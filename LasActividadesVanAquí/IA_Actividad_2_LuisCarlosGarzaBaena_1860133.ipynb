{
  "nbformat": 4,
  "nbformat_minor": 0,
  "metadata": {
    "colab": {
      "name": "IA_Actividad 2_LuisCarlosGarzaBaena_1860133.ipynb",
      "provenance": [],
      "authorship_tag": "ABX9TyOJ0X+7qWMaOeXEWA6O0a1u",
      "include_colab_link": true
    },
    "kernelspec": {
      "name": "python3",
      "display_name": "Python 3"
    },
    "language_info": {
      "name": "python"
    }
  },
  "cells": [
    {
      "cell_type": "markdown",
      "metadata": {
        "id": "view-in-github",
        "colab_type": "text"
      },
      "source": [
        "<a href=\"https://colab.research.google.com/github/LuisCarlosGB/AINN/blob/main/IA_Actividad_2_LuisCarlosGarzaBaena_1860133.ipynb\" target=\"_parent\"><img src=\"https://colab.research.google.com/assets/colab-badge.svg\" alt=\"Open In Colab\"/></a>"
      ]
    },   
    {
      "cell_type": "markdown",
      "metadata": {
        "id": "R8L_e-U5oyda"
      },
      "source": [
        "#Actividad 2.- Ejercicios de Introducción a Python"
      ],
      "execution_count": null,
      "outputs": []
    },
    {
      "cell_type": "markdown",
      "metadata": {
        "id": "g4x5XovphdkI"
      },
      "source": [
           "\n",
        "Nombre: Luis Carlos Garza Baena\n",
         "\n",
        "Matrícula: 1860133\n",
         "\n",
        "Hora: Martes N4-N6\n"
      ]
    },
{
      "cell_type": "markdown",
      "metadata": {
        "id": "g4x5XovphdkK"
      },
      "source": [
        "# Ejercicio 1\n",
        "\n",
        "Crear un programa que pregunte al usuario por su nombre, edad, una frase favorita y autor de la frase favorita. "
      ]
    },
    {
      "cell_type": "code",
      "metadata": {
        "colab": {
          "base_uri": "https://localhost:8080/"
        },
        "id": "9IxQ8a7qw2Zl",
        "outputId": "edd57d7d-2ba2-4620-ac73-08946898f707"
      },
      "source": [
        "#Se asigna una variable para cada pregunta y al final se imprimen las variables\n",
        "nombre = input(\"¿Cuál es su nombre?: \")\n",
        "edad = input(\"¿Cuál es su edad?: \")\n",
        "frase= input(\"¿Qué frase suele inspirarle?: \")\n",
        "autor= input(\"¿Quién es el autor de la frase?: \")\n",
        "print(f\"Me alegro de conocerle, {nombre} de {edad} años. \\nSu frase '{frase}' de {autor} me llena de determinación. \")"
      ],
      "execution_count": null,
      "outputs": [
        {
          "output_type": "stream",
          "name": "stdout",
          "text": [
            "¿Cuál es su nombre?: Luis Carlos\n",
            "¿Cuál es su edad?: 20\n",
            "¿Qué frase suele inspirarle?: El comportamiento es un espejo en el que cada uno muestra su imagen\n",
            "¿Quién es el autor de la frase?: Johann Wolfgang von Goethe\n",
            "Me alegro de conocerle, Luis Carlos de 20 años. \n",
            "Su frase 'El comportamiento es un espejo en el que cada uno muestra su imagen' de Johann Wolfgang von Goethe me llena de determinación. \n"
          ]
        }
      ]
    },
     {
      "cell_type": "markdown",
      "metadata": {
        "id": "yOvRbLKPxd_k"
      },
      "source": [
        "# Ejercicio 2\n",
        "Crear un programa que le pida al usuario capturar dos números enteros y dos números flotantes.\n",
        "\n",
        "Después, realizará la suma, resta, multiplicación y división, de ambos pares de números."
      ]
    },
    {
      "cell_type": "code",
      "metadata": {
        "colab": {
          "base_uri": "https://localhost:8080/"
        },
        "id": "z5yvL5sjwi2Y",
        "outputId": "b358c7e8-5aac-4ff9-9c67-4235592e7c93"
      },
      "source": [
        "#Se almacenan las 4 variables\n",
        "int1 = input(\"Ingrese un primer número entero: \")\n",
        "int2 = input(\"Ingrese un segundo número entero: \")\n",
        "float1 = input(\"Ingrese un primer número flotante: \")\n",
        "float2 = input(\"Ingrese un segundo número flotante: \")\n",
        "print()\n",
        "\n",
        "\"\"\"\n",
        "Se utiliza un for para imprimir en un primer caso los números enteros\n",
        "y posteriormente los flotantes\n",
        "\"\"\"\n",
        "\n",
        "for i in [0, 1]:\n",
        "    if i % 2 == 0:\n",
        "      x = int(int1)\n",
        "      y = int(int2)\n",
        "    else:\n",
        "      x = float(float1)\n",
        "      y = float(float2)\n",
        "\n",
        "    print(f\"La suma de {x} mas {y} es {x + y} \" )\n",
        "    print(f\"La resta de {x} menos {y} es {x - y} \" )\n",
        "    print(f\"La multiplicación de {x} por {y} es {x * y} \" )\n",
        "    print(f\"La división de {x} entre {y} es {x / y} \" )\n",
        "    print()\n"
      ],
      "execution_count": null,
      "outputs": [
        {
          "output_type": "stream",
          "name": "stdout",
          "text": [
            "Ingrese un primer número entero: 6\n",
            "Ingrese un segundo número entero: 5\n",
            "Ingrese un primer número flotante: 4.3\n",
            "Ingrese un segundo número flotante: 2.1\n",
            "\n",
            "La suma de 6 mas 5 es 11 \n",
            "La resta de 6 menos 5 es 1 \n",
            "La multiplicación de 6 por 5 es 30 \n",
            "La división de 6 entre 5 es 1.2 \n",
            "\n",
            "La suma de 4.3 mas 2.1 es 6.4 \n",
            "La resta de 4.3 menos 2.1 es 2.1999999999999997 \n",
            "La multiplicación de 4.3 por 2.1 es 9.03 \n",
            "La división de 4.3 entre 2.1 es 2.0476190476190474 \n",
            "\n"
          ]
        }
      ]
    },
    {
      "cell_type": "markdown",
      "metadata": {
        "id": "gtcURk8slUtp"
      },
      "source": [
        "# Ejercicio 3\n",
        "\n",
        "Crear un programa que evalúe dos expresiones lógicas con `and`, dos con `or` y dos con `not`."
      ]
    },
    {
      "cell_type": "code",
      "metadata": {
        "colab": {
          "base_uri": "https://localhost:8080/"
        },
        "id": "djVRByW0w1Se",
        "outputId": "694fcb47-5109-4af6-d133-00d345be2463"
      },
      "source": [
        "#Se almacenan las variables\n",
        "x = input(\"Ingrese un primer número a comparar: \")\n",
        "y = input(\"Ingrese un segundo número a comparar: \")\n",
        "z = input(\"Ingrese un tercer número a comparar: \")\n",
        "print()\n",
        "#Expresiones and\n",
        "print(f\"Los tres números son iguales: {x == y and y == z}\")\n",
        "print(f\"Los números están ordenados de forma decreciente: {x >= y and y >= z}\")\n",
        "print()\n",
        "#Expresiones or\n",
        "print(f\"El primer número no es el menor: {x > y or x > z}\")\n",
        "print(f\"El último número no es el mayor: {z < x or z < y}\")\n",
        "print()\n",
        "#Expresiones not\n",
        "print(f\"Los números están ordenados de forma ascendente: {not x > y and not y > z}\")\n",
        "print(f\"Ningún número se repite: {not x == y and not y == z and not x == z}\" )"
      ],
      "execution_count": null,
      "outputs": [
        {
          "output_type": "stream",
          "name": "stdout",
          "text": [
            "Ingrese un primer número a comparar: 1\n",
            "Ingrese un segundo número a comparar: 2\n",
            "Ingrese un tercer número a comparar: 3\n",
            "\n",
            "Los tres números son iguales: False\n",
            "Los números están ordenados de forma decreciente: False\n",
            "\n",
            "El primer número no es el menor: False\n",
            "El último número no es el mayor: False\n",
            "\n",
            "Los números están ordenados de forma ascendente: True\n",
            "Ningún número se repite: True\n"
          ]
        }
      ]
    }
  ]
}
